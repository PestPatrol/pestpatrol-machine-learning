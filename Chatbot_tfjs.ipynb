{
  "nbformat": 4,
  "nbformat_minor": 0,
  "metadata": {
    "colab": {
      "provenance": [],
      "gpuType": "T4"
    },
    "kernelspec": {
      "name": "python3",
      "display_name": "Python 3"
    },
    "language_info": {
      "name": "python"
    },
    "accelerator": "GPU"
  },
  "cells": [
    {
      "cell_type": "markdown",
      "source": [
        "Libraries"
      ],
      "metadata": {
        "id": "C9x3N3xzaJDa"
      }
    },
    {
      "cell_type": "code",
      "source": [
        "!pip install tensorflowjs"
      ],
      "metadata": {
        "colab": {
          "base_uri": "https://localhost:8080/"
        },
        "id": "aJQOxgfRWSx4",
        "outputId": "b8ba622b-9ad0-4515-9bca-856271358384"
      },
      "execution_count": null,
      "outputs": [
        {
          "output_type": "stream",
          "name": "stdout",
          "text": [
            "Requirement already satisfied: tensorflowjs in /usr/local/lib/python3.10/dist-packages (4.20.0)\n",
            "Requirement already satisfied: flax>=0.7.2 in /usr/local/lib/python3.10/dist-packages (from tensorflowjs) (0.8.4)\n",
            "Requirement already satisfied: importlib_resources>=5.9.0 in /usr/local/lib/python3.10/dist-packages (from tensorflowjs) (6.4.0)\n",
            "Requirement already satisfied: jax>=0.4.13 in /usr/local/lib/python3.10/dist-packages (from tensorflowjs) (0.4.26)\n",
            "Requirement already satisfied: jaxlib>=0.4.13 in /usr/local/lib/python3.10/dist-packages (from tensorflowjs) (0.4.26+cuda12.cudnn89)\n",
            "Requirement already satisfied: tensorflow<3,>=2.13.0 in /usr/local/lib/python3.10/dist-packages (from tensorflowjs) (2.16.1)\n",
            "Requirement already satisfied: tf-keras>=2.13.0 in /usr/local/lib/python3.10/dist-packages (from tensorflowjs) (2.16.0)\n",
            "Requirement already satisfied: tensorflow-decision-forests>=1.5.0 in /usr/local/lib/python3.10/dist-packages (from tensorflowjs) (1.9.1)\n",
            "Requirement already satisfied: six<2,>=1.16.0 in /usr/local/lib/python3.10/dist-packages (from tensorflowjs) (1.16.0)\n",
            "Requirement already satisfied: tensorflow-hub>=0.16.1 in /usr/local/lib/python3.10/dist-packages (from tensorflowjs) (0.16.1)\n",
            "Requirement already satisfied: packaging~=23.1 in /usr/local/lib/python3.10/dist-packages (from tensorflowjs) (23.2)\n",
            "Requirement already satisfied: numpy>=1.22 in /usr/local/lib/python3.10/dist-packages (from flax>=0.7.2->tensorflowjs) (1.25.2)\n",
            "Requirement already satisfied: msgpack in /usr/local/lib/python3.10/dist-packages (from flax>=0.7.2->tensorflowjs) (1.0.8)\n",
            "Requirement already satisfied: optax in /usr/local/lib/python3.10/dist-packages (from flax>=0.7.2->tensorflowjs) (0.2.2)\n",
            "Requirement already satisfied: orbax-checkpoint in /usr/local/lib/python3.10/dist-packages (from flax>=0.7.2->tensorflowjs) (0.4.4)\n",
            "Requirement already satisfied: tensorstore in /usr/local/lib/python3.10/dist-packages (from flax>=0.7.2->tensorflowjs) (0.1.45)\n",
            "Requirement already satisfied: rich>=11.1 in /usr/local/lib/python3.10/dist-packages (from flax>=0.7.2->tensorflowjs) (13.7.1)\n",
            "Requirement already satisfied: typing-extensions>=4.2 in /usr/local/lib/python3.10/dist-packages (from flax>=0.7.2->tensorflowjs) (4.12.1)\n",
            "Requirement already satisfied: PyYAML>=5.4.1 in /usr/local/lib/python3.10/dist-packages (from flax>=0.7.2->tensorflowjs) (6.0.1)\n",
            "Requirement already satisfied: ml-dtypes>=0.2.0 in /usr/local/lib/python3.10/dist-packages (from jax>=0.4.13->tensorflowjs) (0.3.2)\n",
            "Requirement already satisfied: opt-einsum in /usr/local/lib/python3.10/dist-packages (from jax>=0.4.13->tensorflowjs) (3.3.0)\n",
            "Requirement already satisfied: scipy>=1.9 in /usr/local/lib/python3.10/dist-packages (from jax>=0.4.13->tensorflowjs) (1.11.4)\n",
            "Requirement already satisfied: absl-py>=1.0.0 in /usr/local/lib/python3.10/dist-packages (from tensorflow<3,>=2.13.0->tensorflowjs) (1.4.0)\n",
            "Requirement already satisfied: astunparse>=1.6.0 in /usr/local/lib/python3.10/dist-packages (from tensorflow<3,>=2.13.0->tensorflowjs) (1.6.3)\n",
            "Requirement already satisfied: flatbuffers>=23.5.26 in /usr/local/lib/python3.10/dist-packages (from tensorflow<3,>=2.13.0->tensorflowjs) (24.3.25)\n",
            "Requirement already satisfied: gast!=0.5.0,!=0.5.1,!=0.5.2,>=0.2.1 in /usr/local/lib/python3.10/dist-packages (from tensorflow<3,>=2.13.0->tensorflowjs) (0.5.4)\n",
            "Requirement already satisfied: google-pasta>=0.1.1 in /usr/local/lib/python3.10/dist-packages (from tensorflow<3,>=2.13.0->tensorflowjs) (0.2.0)\n",
            "Requirement already satisfied: h5py>=3.10.0 in /usr/local/lib/python3.10/dist-packages (from tensorflow<3,>=2.13.0->tensorflowjs) (3.11.0)\n",
            "Requirement already satisfied: libclang>=13.0.0 in /usr/local/lib/python3.10/dist-packages (from tensorflow<3,>=2.13.0->tensorflowjs) (18.1.1)\n",
            "Requirement already satisfied: protobuf!=4.21.0,!=4.21.1,!=4.21.2,!=4.21.3,!=4.21.4,!=4.21.5,<5.0.0dev,>=3.20.3 in /usr/local/lib/python3.10/dist-packages (from tensorflow<3,>=2.13.0->tensorflowjs) (3.20.3)\n",
            "Requirement already satisfied: requests<3,>=2.21.0 in /usr/local/lib/python3.10/dist-packages (from tensorflow<3,>=2.13.0->tensorflowjs) (2.31.0)\n",
            "Requirement already satisfied: setuptools in /usr/local/lib/python3.10/dist-packages (from tensorflow<3,>=2.13.0->tensorflowjs) (67.7.2)\n",
            "Requirement already satisfied: termcolor>=1.1.0 in /usr/local/lib/python3.10/dist-packages (from tensorflow<3,>=2.13.0->tensorflowjs) (2.4.0)\n",
            "Requirement already satisfied: wrapt>=1.11.0 in /usr/local/lib/python3.10/dist-packages (from tensorflow<3,>=2.13.0->tensorflowjs) (1.14.1)\n",
            "Requirement already satisfied: grpcio<2.0,>=1.24.3 in /usr/local/lib/python3.10/dist-packages (from tensorflow<3,>=2.13.0->tensorflowjs) (1.64.1)\n",
            "Requirement already satisfied: tensorboard<2.17,>=2.16 in /usr/local/lib/python3.10/dist-packages (from tensorflow<3,>=2.13.0->tensorflowjs) (2.16.2)\n",
            "Requirement already satisfied: keras>=3.0.0 in /usr/local/lib/python3.10/dist-packages (from tensorflow<3,>=2.13.0->tensorflowjs) (3.3.3)\n",
            "Requirement already satisfied: tensorflow-io-gcs-filesystem>=0.23.1 in /usr/local/lib/python3.10/dist-packages (from tensorflow<3,>=2.13.0->tensorflowjs) (0.37.0)\n",
            "Requirement already satisfied: pandas in /usr/local/lib/python3.10/dist-packages (from tensorflow-decision-forests>=1.5.0->tensorflowjs) (2.0.3)\n",
            "Requirement already satisfied: wheel in /usr/local/lib/python3.10/dist-packages (from tensorflow-decision-forests>=1.5.0->tensorflowjs) (0.43.0)\n",
            "Requirement already satisfied: wurlitzer in /usr/local/lib/python3.10/dist-packages (from tensorflow-decision-forests>=1.5.0->tensorflowjs) (3.1.0)\n",
            "Requirement already satisfied: ydf in /usr/local/lib/python3.10/dist-packages (from tensorflow-decision-forests>=1.5.0->tensorflowjs) (0.4.3)\n",
            "Requirement already satisfied: namex in /usr/local/lib/python3.10/dist-packages (from keras>=3.0.0->tensorflow<3,>=2.13.0->tensorflowjs) (0.0.8)\n",
            "Requirement already satisfied: optree in /usr/local/lib/python3.10/dist-packages (from keras>=3.0.0->tensorflow<3,>=2.13.0->tensorflowjs) (0.11.0)\n",
            "Requirement already satisfied: charset-normalizer<4,>=2 in /usr/local/lib/python3.10/dist-packages (from requests<3,>=2.21.0->tensorflow<3,>=2.13.0->tensorflowjs) (3.3.2)\n",
            "Requirement already satisfied: idna<4,>=2.5 in /usr/local/lib/python3.10/dist-packages (from requests<3,>=2.21.0->tensorflow<3,>=2.13.0->tensorflowjs) (3.7)\n",
            "Requirement already satisfied: urllib3<3,>=1.21.1 in /usr/local/lib/python3.10/dist-packages (from requests<3,>=2.21.0->tensorflow<3,>=2.13.0->tensorflowjs) (2.0.7)\n",
            "Requirement already satisfied: certifi>=2017.4.17 in /usr/local/lib/python3.10/dist-packages (from requests<3,>=2.21.0->tensorflow<3,>=2.13.0->tensorflowjs) (2024.6.2)\n",
            "Requirement already satisfied: markdown-it-py>=2.2.0 in /usr/local/lib/python3.10/dist-packages (from rich>=11.1->flax>=0.7.2->tensorflowjs) (3.0.0)\n",
            "Requirement already satisfied: pygments<3.0.0,>=2.13.0 in /usr/local/lib/python3.10/dist-packages (from rich>=11.1->flax>=0.7.2->tensorflowjs) (2.16.1)\n",
            "Requirement already satisfied: markdown>=2.6.8 in /usr/local/lib/python3.10/dist-packages (from tensorboard<2.17,>=2.16->tensorflow<3,>=2.13.0->tensorflowjs) (3.6)\n",
            "Requirement already satisfied: tensorboard-data-server<0.8.0,>=0.7.0 in /usr/local/lib/python3.10/dist-packages (from tensorboard<2.17,>=2.16->tensorflow<3,>=2.13.0->tensorflowjs) (0.7.2)\n",
            "Requirement already satisfied: werkzeug>=1.0.1 in /usr/local/lib/python3.10/dist-packages (from tensorboard<2.17,>=2.16->tensorflow<3,>=2.13.0->tensorflowjs) (3.0.3)\n",
            "Requirement already satisfied: chex>=0.1.86 in /usr/local/lib/python3.10/dist-packages (from optax->flax>=0.7.2->tensorflowjs) (0.1.86)\n",
            "Requirement already satisfied: etils[epath,epy] in /usr/local/lib/python3.10/dist-packages (from orbax-checkpoint->flax>=0.7.2->tensorflowjs) (1.7.0)\n",
            "Requirement already satisfied: nest_asyncio in /usr/local/lib/python3.10/dist-packages (from orbax-checkpoint->flax>=0.7.2->tensorflowjs) (1.6.0)\n",
            "Requirement already satisfied: python-dateutil>=2.8.2 in /usr/local/lib/python3.10/dist-packages (from pandas->tensorflow-decision-forests>=1.5.0->tensorflowjs) (2.8.2)\n",
            "Requirement already satisfied: pytz>=2020.1 in /usr/local/lib/python3.10/dist-packages (from pandas->tensorflow-decision-forests>=1.5.0->tensorflowjs) (2023.4)\n",
            "Requirement already satisfied: tzdata>=2022.1 in /usr/local/lib/python3.10/dist-packages (from pandas->tensorflow-decision-forests>=1.5.0->tensorflowjs) (2024.1)\n",
            "Requirement already satisfied: toolz>=0.9.0 in /usr/local/lib/python3.10/dist-packages (from chex>=0.1.86->optax->flax>=0.7.2->tensorflowjs) (0.12.1)\n",
            "Requirement already satisfied: mdurl~=0.1 in /usr/local/lib/python3.10/dist-packages (from markdown-it-py>=2.2.0->rich>=11.1->flax>=0.7.2->tensorflowjs) (0.1.2)\n",
            "Requirement already satisfied: MarkupSafe>=2.1.1 in /usr/local/lib/python3.10/dist-packages (from werkzeug>=1.0.1->tensorboard<2.17,>=2.16->tensorflow<3,>=2.13.0->tensorflowjs) (2.1.5)\n",
            "Requirement already satisfied: fsspec in /usr/local/lib/python3.10/dist-packages (from etils[epath,epy]->orbax-checkpoint->flax>=0.7.2->tensorflowjs) (2023.6.0)\n",
            "Requirement already satisfied: zipp in /usr/local/lib/python3.10/dist-packages (from etils[epath,epy]->orbax-checkpoint->flax>=0.7.2->tensorflowjs) (3.19.1)\n"
          ]
        }
      ]
    },
    {
      "cell_type": "code",
      "source": [
        "!pip install TensorFlow==2.15.0\n",
        "!pip install tensorflow-decision-forests==1.8.1"
      ],
      "metadata": {
        "colab": {
          "base_uri": "https://localhost:8080/"
        },
        "id": "PRKbRbLVjieQ",
        "outputId": "e09019c0-b172-4dbd-9885-7ee359ffdc90"
      },
      "execution_count": null,
      "outputs": [
        {
          "output_type": "stream",
          "name": "stdout",
          "text": [
            "Collecting TensorFlow==2.15.0\n",
            "  Using cached tensorflow-2.15.0-cp310-cp310-manylinux_2_17_x86_64.manylinux2014_x86_64.whl (475.2 MB)\n",
            "Requirement already satisfied: absl-py>=1.0.0 in /usr/local/lib/python3.10/dist-packages (from TensorFlow==2.15.0) (1.4.0)\n",
            "Requirement already satisfied: astunparse>=1.6.0 in /usr/local/lib/python3.10/dist-packages (from TensorFlow==2.15.0) (1.6.3)\n",
            "Requirement already satisfied: flatbuffers>=23.5.26 in /usr/local/lib/python3.10/dist-packages (from TensorFlow==2.15.0) (24.3.25)\n",
            "Requirement already satisfied: gast!=0.5.0,!=0.5.1,!=0.5.2,>=0.2.1 in /usr/local/lib/python3.10/dist-packages (from TensorFlow==2.15.0) (0.5.4)\n",
            "Requirement already satisfied: google-pasta>=0.1.1 in /usr/local/lib/python3.10/dist-packages (from TensorFlow==2.15.0) (0.2.0)\n",
            "Requirement already satisfied: h5py>=2.9.0 in /usr/local/lib/python3.10/dist-packages (from TensorFlow==2.15.0) (3.11.0)\n",
            "Requirement already satisfied: libclang>=13.0.0 in /usr/local/lib/python3.10/dist-packages (from TensorFlow==2.15.0) (18.1.1)\n",
            "Collecting ml-dtypes~=0.2.0 (from TensorFlow==2.15.0)\n",
            "  Using cached ml_dtypes-0.2.0-cp310-cp310-manylinux_2_17_x86_64.manylinux2014_x86_64.whl (1.0 MB)\n",
            "Requirement already satisfied: numpy<2.0.0,>=1.23.5 in /usr/local/lib/python3.10/dist-packages (from TensorFlow==2.15.0) (1.25.2)\n",
            "Requirement already satisfied: opt-einsum>=2.3.2 in /usr/local/lib/python3.10/dist-packages (from TensorFlow==2.15.0) (3.3.0)\n",
            "Requirement already satisfied: packaging in /usr/local/lib/python3.10/dist-packages (from TensorFlow==2.15.0) (23.2)\n",
            "Requirement already satisfied: protobuf!=4.21.0,!=4.21.1,!=4.21.2,!=4.21.3,!=4.21.4,!=4.21.5,<5.0.0dev,>=3.20.3 in /usr/local/lib/python3.10/dist-packages (from TensorFlow==2.15.0) (3.20.3)\n",
            "Requirement already satisfied: setuptools in /usr/local/lib/python3.10/dist-packages (from TensorFlow==2.15.0) (67.7.2)\n",
            "Requirement already satisfied: six>=1.12.0 in /usr/local/lib/python3.10/dist-packages (from TensorFlow==2.15.0) (1.16.0)\n",
            "Requirement already satisfied: termcolor>=1.1.0 in /usr/local/lib/python3.10/dist-packages (from TensorFlow==2.15.0) (2.4.0)\n",
            "Requirement already satisfied: typing-extensions>=3.6.6 in /usr/local/lib/python3.10/dist-packages (from TensorFlow==2.15.0) (4.12.1)\n",
            "Requirement already satisfied: wrapt<1.15,>=1.11.0 in /usr/local/lib/python3.10/dist-packages (from TensorFlow==2.15.0) (1.14.1)\n",
            "Requirement already satisfied: tensorflow-io-gcs-filesystem>=0.23.1 in /usr/local/lib/python3.10/dist-packages (from TensorFlow==2.15.0) (0.37.0)\n",
            "Requirement already satisfied: grpcio<2.0,>=1.24.3 in /usr/local/lib/python3.10/dist-packages (from TensorFlow==2.15.0) (1.64.1)\n",
            "Collecting tensorboard<2.16,>=2.15 (from TensorFlow==2.15.0)\n",
            "  Using cached tensorboard-2.15.2-py3-none-any.whl (5.5 MB)\n",
            "Requirement already satisfied: tensorflow-estimator<2.16,>=2.15.0 in /usr/local/lib/python3.10/dist-packages (from TensorFlow==2.15.0) (2.15.0)\n",
            "Collecting keras<2.16,>=2.15.0 (from TensorFlow==2.15.0)\n",
            "  Using cached keras-2.15.0-py3-none-any.whl (1.7 MB)\n",
            "Requirement already satisfied: wheel<1.0,>=0.23.0 in /usr/local/lib/python3.10/dist-packages (from astunparse>=1.6.0->TensorFlow==2.15.0) (0.43.0)\n",
            "Requirement already satisfied: google-auth<3,>=1.6.3 in /usr/local/lib/python3.10/dist-packages (from tensorboard<2.16,>=2.15->TensorFlow==2.15.0) (2.27.0)\n",
            "Requirement already satisfied: google-auth-oauthlib<2,>=0.5 in /usr/local/lib/python3.10/dist-packages (from tensorboard<2.16,>=2.15->TensorFlow==2.15.0) (1.2.0)\n",
            "Requirement already satisfied: markdown>=2.6.8 in /usr/local/lib/python3.10/dist-packages (from tensorboard<2.16,>=2.15->TensorFlow==2.15.0) (3.6)\n",
            "Requirement already satisfied: requests<3,>=2.21.0 in /usr/local/lib/python3.10/dist-packages (from tensorboard<2.16,>=2.15->TensorFlow==2.15.0) (2.31.0)\n",
            "Requirement already satisfied: tensorboard-data-server<0.8.0,>=0.7.0 in /usr/local/lib/python3.10/dist-packages (from tensorboard<2.16,>=2.15->TensorFlow==2.15.0) (0.7.2)\n",
            "Requirement already satisfied: werkzeug>=1.0.1 in /usr/local/lib/python3.10/dist-packages (from tensorboard<2.16,>=2.15->TensorFlow==2.15.0) (3.0.3)\n",
            "Requirement already satisfied: cachetools<6.0,>=2.0.0 in /usr/local/lib/python3.10/dist-packages (from google-auth<3,>=1.6.3->tensorboard<2.16,>=2.15->TensorFlow==2.15.0) (5.3.3)\n",
            "Requirement already satisfied: pyasn1-modules>=0.2.1 in /usr/local/lib/python3.10/dist-packages (from google-auth<3,>=1.6.3->tensorboard<2.16,>=2.15->TensorFlow==2.15.0) (0.4.0)\n",
            "Requirement already satisfied: rsa<5,>=3.1.4 in /usr/local/lib/python3.10/dist-packages (from google-auth<3,>=1.6.3->tensorboard<2.16,>=2.15->TensorFlow==2.15.0) (4.9)\n",
            "Requirement already satisfied: requests-oauthlib>=0.7.0 in /usr/local/lib/python3.10/dist-packages (from google-auth-oauthlib<2,>=0.5->tensorboard<2.16,>=2.15->TensorFlow==2.15.0) (1.3.1)\n",
            "Requirement already satisfied: charset-normalizer<4,>=2 in /usr/local/lib/python3.10/dist-packages (from requests<3,>=2.21.0->tensorboard<2.16,>=2.15->TensorFlow==2.15.0) (3.3.2)\n",
            "Requirement already satisfied: idna<4,>=2.5 in /usr/local/lib/python3.10/dist-packages (from requests<3,>=2.21.0->tensorboard<2.16,>=2.15->TensorFlow==2.15.0) (3.7)\n",
            "Requirement already satisfied: urllib3<3,>=1.21.1 in /usr/local/lib/python3.10/dist-packages (from requests<3,>=2.21.0->tensorboard<2.16,>=2.15->TensorFlow==2.15.0) (2.0.7)\n",
            "Requirement already satisfied: certifi>=2017.4.17 in /usr/local/lib/python3.10/dist-packages (from requests<3,>=2.21.0->tensorboard<2.16,>=2.15->TensorFlow==2.15.0) (2024.6.2)\n",
            "Requirement already satisfied: MarkupSafe>=2.1.1 in /usr/local/lib/python3.10/dist-packages (from werkzeug>=1.0.1->tensorboard<2.16,>=2.15->TensorFlow==2.15.0) (2.1.5)\n",
            "Requirement already satisfied: pyasn1<0.7.0,>=0.4.6 in /usr/local/lib/python3.10/dist-packages (from pyasn1-modules>=0.2.1->google-auth<3,>=1.6.3->tensorboard<2.16,>=2.15->TensorFlow==2.15.0) (0.6.0)\n",
            "Requirement already satisfied: oauthlib>=3.0.0 in /usr/local/lib/python3.10/dist-packages (from requests-oauthlib>=0.7.0->google-auth-oauthlib<2,>=0.5->tensorboard<2.16,>=2.15->TensorFlow==2.15.0) (3.2.2)\n",
            "Installing collected packages: ml-dtypes, keras, tensorboard, TensorFlow\n",
            "  Attempting uninstall: ml-dtypes\n",
            "    Found existing installation: ml-dtypes 0.3.2\n",
            "    Uninstalling ml-dtypes-0.3.2:\n",
            "      Successfully uninstalled ml-dtypes-0.3.2\n",
            "  Attempting uninstall: keras\n",
            "    Found existing installation: keras 3.3.3\n",
            "    Uninstalling keras-3.3.3:\n",
            "      Successfully uninstalled keras-3.3.3\n",
            "  Attempting uninstall: tensorboard\n",
            "    Found existing installation: tensorboard 2.16.2\n",
            "    Uninstalling tensorboard-2.16.2:\n",
            "      Successfully uninstalled tensorboard-2.16.2\n",
            "  Attempting uninstall: TensorFlow\n",
            "    Found existing installation: tensorflow 2.16.1\n",
            "    Uninstalling tensorflow-2.16.1:\n",
            "      Successfully uninstalled tensorflow-2.16.1\n",
            "\u001b[31mERROR: pip's dependency resolver does not currently take into account all the packages that are installed. This behaviour is the source of the following dependency conflicts.\n",
            "tensorflow-decision-forests 1.9.1 requires tensorflow~=2.16.1, but you have tensorflow 2.15.0 which is incompatible.\n",
            "tf-keras 2.16.0 requires tensorflow<2.17,>=2.16, but you have tensorflow 2.15.0 which is incompatible.\u001b[0m\u001b[31m\n",
            "\u001b[0mSuccessfully installed TensorFlow-2.15.0 keras-2.15.0 ml-dtypes-0.2.0 tensorboard-2.15.2\n",
            "Collecting tensorflow-decision-forests==1.8.1\n",
            "  Using cached tensorflow_decision_forests-1.8.1-cp310-cp310-manylinux_2_17_x86_64.manylinux2014_x86_64.whl (15.3 MB)\n",
            "Requirement already satisfied: numpy in /usr/local/lib/python3.10/dist-packages (from tensorflow-decision-forests==1.8.1) (1.25.2)\n",
            "Requirement already satisfied: pandas in /usr/local/lib/python3.10/dist-packages (from tensorflow-decision-forests==1.8.1) (2.0.3)\n",
            "Requirement already satisfied: tensorflow~=2.15.0 in /usr/local/lib/python3.10/dist-packages (from tensorflow-decision-forests==1.8.1) (2.15.0)\n",
            "Requirement already satisfied: six in /usr/local/lib/python3.10/dist-packages (from tensorflow-decision-forests==1.8.1) (1.16.0)\n",
            "Requirement already satisfied: absl-py in /usr/local/lib/python3.10/dist-packages (from tensorflow-decision-forests==1.8.1) (1.4.0)\n",
            "Requirement already satisfied: wheel in /usr/local/lib/python3.10/dist-packages (from tensorflow-decision-forests==1.8.1) (0.43.0)\n",
            "Requirement already satisfied: wurlitzer in /usr/local/lib/python3.10/dist-packages (from tensorflow-decision-forests==1.8.1) (3.1.0)\n",
            "Requirement already satisfied: astunparse>=1.6.0 in /usr/local/lib/python3.10/dist-packages (from tensorflow~=2.15.0->tensorflow-decision-forests==1.8.1) (1.6.3)\n",
            "Requirement already satisfied: flatbuffers>=23.5.26 in /usr/local/lib/python3.10/dist-packages (from tensorflow~=2.15.0->tensorflow-decision-forests==1.8.1) (24.3.25)\n",
            "Requirement already satisfied: gast!=0.5.0,!=0.5.1,!=0.5.2,>=0.2.1 in /usr/local/lib/python3.10/dist-packages (from tensorflow~=2.15.0->tensorflow-decision-forests==1.8.1) (0.5.4)\n",
            "Requirement already satisfied: google-pasta>=0.1.1 in /usr/local/lib/python3.10/dist-packages (from tensorflow~=2.15.0->tensorflow-decision-forests==1.8.1) (0.2.0)\n",
            "Requirement already satisfied: h5py>=2.9.0 in /usr/local/lib/python3.10/dist-packages (from tensorflow~=2.15.0->tensorflow-decision-forests==1.8.1) (3.11.0)\n",
            "Requirement already satisfied: libclang>=13.0.0 in /usr/local/lib/python3.10/dist-packages (from tensorflow~=2.15.0->tensorflow-decision-forests==1.8.1) (18.1.1)\n",
            "Requirement already satisfied: ml-dtypes~=0.2.0 in /usr/local/lib/python3.10/dist-packages (from tensorflow~=2.15.0->tensorflow-decision-forests==1.8.1) (0.2.0)\n",
            "Requirement already satisfied: opt-einsum>=2.3.2 in /usr/local/lib/python3.10/dist-packages (from tensorflow~=2.15.0->tensorflow-decision-forests==1.8.1) (3.3.0)\n",
            "Requirement already satisfied: packaging in /usr/local/lib/python3.10/dist-packages (from tensorflow~=2.15.0->tensorflow-decision-forests==1.8.1) (23.2)\n",
            "Requirement already satisfied: protobuf!=4.21.0,!=4.21.1,!=4.21.2,!=4.21.3,!=4.21.4,!=4.21.5,<5.0.0dev,>=3.20.3 in /usr/local/lib/python3.10/dist-packages (from tensorflow~=2.15.0->tensorflow-decision-forests==1.8.1) (3.20.3)\n",
            "Requirement already satisfied: setuptools in /usr/local/lib/python3.10/dist-packages (from tensorflow~=2.15.0->tensorflow-decision-forests==1.8.1) (67.7.2)\n",
            "Requirement already satisfied: termcolor>=1.1.0 in /usr/local/lib/python3.10/dist-packages (from tensorflow~=2.15.0->tensorflow-decision-forests==1.8.1) (2.4.0)\n",
            "Requirement already satisfied: typing-extensions>=3.6.6 in /usr/local/lib/python3.10/dist-packages (from tensorflow~=2.15.0->tensorflow-decision-forests==1.8.1) (4.12.1)\n",
            "Requirement already satisfied: wrapt<1.15,>=1.11.0 in /usr/local/lib/python3.10/dist-packages (from tensorflow~=2.15.0->tensorflow-decision-forests==1.8.1) (1.14.1)\n",
            "Requirement already satisfied: tensorflow-io-gcs-filesystem>=0.23.1 in /usr/local/lib/python3.10/dist-packages (from tensorflow~=2.15.0->tensorflow-decision-forests==1.8.1) (0.37.0)\n",
            "Requirement already satisfied: grpcio<2.0,>=1.24.3 in /usr/local/lib/python3.10/dist-packages (from tensorflow~=2.15.0->tensorflow-decision-forests==1.8.1) (1.64.1)\n",
            "Requirement already satisfied: tensorboard<2.16,>=2.15 in /usr/local/lib/python3.10/dist-packages (from tensorflow~=2.15.0->tensorflow-decision-forests==1.8.1) (2.15.2)\n",
            "Requirement already satisfied: tensorflow-estimator<2.16,>=2.15.0 in /usr/local/lib/python3.10/dist-packages (from tensorflow~=2.15.0->tensorflow-decision-forests==1.8.1) (2.15.0)\n",
            "Requirement already satisfied: keras<2.16,>=2.15.0 in /usr/local/lib/python3.10/dist-packages (from tensorflow~=2.15.0->tensorflow-decision-forests==1.8.1) (2.15.0)\n",
            "Requirement already satisfied: python-dateutil>=2.8.2 in /usr/local/lib/python3.10/dist-packages (from pandas->tensorflow-decision-forests==1.8.1) (2.8.2)\n",
            "Requirement already satisfied: pytz>=2020.1 in /usr/local/lib/python3.10/dist-packages (from pandas->tensorflow-decision-forests==1.8.1) (2023.4)\n",
            "Requirement already satisfied: tzdata>=2022.1 in /usr/local/lib/python3.10/dist-packages (from pandas->tensorflow-decision-forests==1.8.1) (2024.1)\n",
            "Requirement already satisfied: google-auth<3,>=1.6.3 in /usr/local/lib/python3.10/dist-packages (from tensorboard<2.16,>=2.15->tensorflow~=2.15.0->tensorflow-decision-forests==1.8.1) (2.27.0)\n",
            "Requirement already satisfied: google-auth-oauthlib<2,>=0.5 in /usr/local/lib/python3.10/dist-packages (from tensorboard<2.16,>=2.15->tensorflow~=2.15.0->tensorflow-decision-forests==1.8.1) (1.2.0)\n",
            "Requirement already satisfied: markdown>=2.6.8 in /usr/local/lib/python3.10/dist-packages (from tensorboard<2.16,>=2.15->tensorflow~=2.15.0->tensorflow-decision-forests==1.8.1) (3.6)\n",
            "Requirement already satisfied: requests<3,>=2.21.0 in /usr/local/lib/python3.10/dist-packages (from tensorboard<2.16,>=2.15->tensorflow~=2.15.0->tensorflow-decision-forests==1.8.1) (2.31.0)\n",
            "Requirement already satisfied: tensorboard-data-server<0.8.0,>=0.7.0 in /usr/local/lib/python3.10/dist-packages (from tensorboard<2.16,>=2.15->tensorflow~=2.15.0->tensorflow-decision-forests==1.8.1) (0.7.2)\n",
            "Requirement already satisfied: werkzeug>=1.0.1 in /usr/local/lib/python3.10/dist-packages (from tensorboard<2.16,>=2.15->tensorflow~=2.15.0->tensorflow-decision-forests==1.8.1) (3.0.3)\n",
            "Requirement already satisfied: cachetools<6.0,>=2.0.0 in /usr/local/lib/python3.10/dist-packages (from google-auth<3,>=1.6.3->tensorboard<2.16,>=2.15->tensorflow~=2.15.0->tensorflow-decision-forests==1.8.1) (5.3.3)\n",
            "Requirement already satisfied: pyasn1-modules>=0.2.1 in /usr/local/lib/python3.10/dist-packages (from google-auth<3,>=1.6.3->tensorboard<2.16,>=2.15->tensorflow~=2.15.0->tensorflow-decision-forests==1.8.1) (0.4.0)\n",
            "Requirement already satisfied: rsa<5,>=3.1.4 in /usr/local/lib/python3.10/dist-packages (from google-auth<3,>=1.6.3->tensorboard<2.16,>=2.15->tensorflow~=2.15.0->tensorflow-decision-forests==1.8.1) (4.9)\n",
            "Requirement already satisfied: requests-oauthlib>=0.7.0 in /usr/local/lib/python3.10/dist-packages (from google-auth-oauthlib<2,>=0.5->tensorboard<2.16,>=2.15->tensorflow~=2.15.0->tensorflow-decision-forests==1.8.1) (1.3.1)\n",
            "Requirement already satisfied: charset-normalizer<4,>=2 in /usr/local/lib/python3.10/dist-packages (from requests<3,>=2.21.0->tensorboard<2.16,>=2.15->tensorflow~=2.15.0->tensorflow-decision-forests==1.8.1) (3.3.2)\n",
            "Requirement already satisfied: idna<4,>=2.5 in /usr/local/lib/python3.10/dist-packages (from requests<3,>=2.21.0->tensorboard<2.16,>=2.15->tensorflow~=2.15.0->tensorflow-decision-forests==1.8.1) (3.7)\n",
            "Requirement already satisfied: urllib3<3,>=1.21.1 in /usr/local/lib/python3.10/dist-packages (from requests<3,>=2.21.0->tensorboard<2.16,>=2.15->tensorflow~=2.15.0->tensorflow-decision-forests==1.8.1) (2.0.7)\n",
            "Requirement already satisfied: certifi>=2017.4.17 in /usr/local/lib/python3.10/dist-packages (from requests<3,>=2.21.0->tensorboard<2.16,>=2.15->tensorflow~=2.15.0->tensorflow-decision-forests==1.8.1) (2024.6.2)\n",
            "Requirement already satisfied: MarkupSafe>=2.1.1 in /usr/local/lib/python3.10/dist-packages (from werkzeug>=1.0.1->tensorboard<2.16,>=2.15->tensorflow~=2.15.0->tensorflow-decision-forests==1.8.1) (2.1.5)\n",
            "Requirement already satisfied: pyasn1<0.7.0,>=0.4.6 in /usr/local/lib/python3.10/dist-packages (from pyasn1-modules>=0.2.1->google-auth<3,>=1.6.3->tensorboard<2.16,>=2.15->tensorflow~=2.15.0->tensorflow-decision-forests==1.8.1) (0.6.0)\n",
            "Requirement already satisfied: oauthlib>=3.0.0 in /usr/local/lib/python3.10/dist-packages (from requests-oauthlib>=0.7.0->google-auth-oauthlib<2,>=0.5->tensorboard<2.16,>=2.15->tensorflow~=2.15.0->tensorflow-decision-forests==1.8.1) (3.2.2)\n",
            "Installing collected packages: tensorflow-decision-forests\n",
            "  Attempting uninstall: tensorflow-decision-forests\n",
            "    Found existing installation: tensorflow_decision_forests 1.9.1\n",
            "    Uninstalling tensorflow_decision_forests-1.9.1:\n",
            "      Successfully uninstalled tensorflow_decision_forests-1.9.1\n",
            "Successfully installed tensorflow-decision-forests-1.8.1\n"
          ]
        }
      ]
    },
    {
      "cell_type": "code",
      "execution_count": null,
      "metadata": {
        "id": "F74Ct7CRZ48O"
      },
      "outputs": [],
      "source": [
        "import pandas as pd\n",
        "import string\n",
        "from tensorflow.keras.preprocessing.text import Tokenizer\n",
        "from tensorflow.keras.preprocessing.sequence import pad_sequences\n",
        "from tensorflow.keras.models import Model\n",
        "from tensorflow.keras.layers import Input, Embedding, LSTM, Flatten, Dense\n",
        "from sklearn.preprocessing import LabelEncoder\n",
        "import numpy as np\n",
        "import signal\n",
        "import matplotlib.pyplot as plt\n",
        "import tensorflow as tf"
      ]
    },
    {
      "cell_type": "markdown",
      "source": [
        "Importing the Data"
      ],
      "metadata": {
        "id": "vBCuNGpbftrL"
      }
    },
    {
      "cell_type": "code",
      "source": [
        "import tensorflowjs as tfjs\n",
        "print(tfjs.__version__)"
      ],
      "metadata": {
        "colab": {
          "base_uri": "https://localhost:8080/"
        },
        "id": "eFo-G6rsWdDY",
        "outputId": "96919826-e8f5-4f33-9f7f-8f72cdc1a47a"
      },
      "execution_count": null,
      "outputs": [
        {
          "output_type": "stream",
          "name": "stdout",
          "text": [
            "4.20.0\n"
          ]
        }
      ]
    },
    {
      "cell_type": "code",
      "source": [
        "# Load the dataset\n",
        "data = pd.read_csv('datapadi.csv')\n",
        "\n",
        "# Shuffle the data\n",
        "data = data.sample(frac=1).reset_index(drop=True)"
      ],
      "metadata": {
        "id": "6Xclc5tMcxA4"
      },
      "execution_count": null,
      "outputs": []
    },
    {
      "cell_type": "markdown",
      "source": [
        "Pre-Processing"
      ],
      "metadata": {
        "id": "tz8OEpyRhrA1"
      }
    },
    {
      "cell_type": "code",
      "source": [
        "# Preprocess the input data\n",
        "data['question'] = data['question'].apply(lambda wrd: [ltrs.lower() for ltrs in wrd if ltrs not in string.punctuation])\n",
        "data['question'] = data['question'].apply(lambda wrd: ''.join(wrd))"
      ],
      "metadata": {
        "id": "5wNEgpZLfyx9"
      },
      "execution_count": null,
      "outputs": []
    },
    {
      "cell_type": "code",
      "source": [
        "# Tokenize the data\n",
        "tokenizer = Tokenizer(num_words=2000)\n",
        "tokenizer.fit_on_texts(data['question'])\n",
        "train = tokenizer.texts_to_sequences(data['question'])"
      ],
      "metadata": {
        "id": "1XTpPW0FgIWk"
      },
      "execution_count": null,
      "outputs": []
    },
    {
      "cell_type": "code",
      "source": [
        "# Apply padding\n",
        "x_train = pad_sequences(train)"
      ],
      "metadata": {
        "id": "z4zp2XzKg6AW"
      },
      "execution_count": null,
      "outputs": []
    },
    {
      "cell_type": "code",
      "source": [
        "# Encode the outputs\n",
        "le = LabelEncoder()\n",
        "y_train = le.fit_transform(data['answer'])"
      ],
      "metadata": {
        "id": "-zM8GEbJhe9t"
      },
      "execution_count": null,
      "outputs": []
    },
    {
      "cell_type": "code",
      "source": [
        "# Define model parameters\n",
        "input_shape = x_train.shape[1]\n",
        "vocabulary = len(tokenizer.word_index)\n",
        "output_length = le.classes_.shape[0]"
      ],
      "metadata": {
        "id": "n5TNHCRuhhlT"
      },
      "execution_count": null,
      "outputs": []
    },
    {
      "cell_type": "markdown",
      "source": [
        "Neural Network"
      ],
      "metadata": {
        "id": "JW264ONBkdy_"
      }
    },
    {
      "cell_type": "code",
      "source": [
        "# Create the model\n",
        "input_tensor = Input(shape=(input_shape,), name='input_layer')\n",
        "x = Embedding(vocabulary + 1, 10, name='embedding_layer')(input_tensor)\n",
        "x = LSTM(18, return_sequences=True, name='lstm_layer')(x)\n",
        "x = Flatten(name='flatten_layer')(x)\n",
        "predictions = Dense(output_length, activation=\"softmax\", name='output_layer')(x)"
      ],
      "metadata": {
        "id": "jzJX9TQ2hqWj",
        "colab": {
          "base_uri": "https://localhost:8080/"
        },
        "outputId": "8323d1d1-b71f-43f8-d7b8-360dcb036f7a"
      },
      "execution_count": null,
      "outputs": [
        {
          "output_type": "stream",
          "name": "stderr",
          "text": [
            "WARNING:tensorflow:Layer lstm_layer will not use cuDNN kernels since it doesn't meet the criteria. It will use a generic GPU kernel as fallback when running on GPU.\n"
          ]
        }
      ]
    },
    {
      "cell_type": "code",
      "source": [
        "model = Model(inputs=input_tensor, outputs=predictions, name='chatbot_model')"
      ],
      "metadata": {
        "id": "H8UfhcQubY3d"
      },
      "execution_count": null,
      "outputs": []
    },
    {
      "cell_type": "code",
      "source": [
        "# Compile the model\n",
        "model.compile(loss=\"sparse_categorical_crossentropy\", optimizer='adam', metrics=['accuracy'])"
      ],
      "metadata": {
        "id": "UcdJslfkixig"
      },
      "execution_count": null,
      "outputs": []
    },
    {
      "cell_type": "code",
      "source": [
        "# Train the model\n",
        "train = model.fit(x_train, y_train, epochs=200)"
      ],
      "metadata": {
        "colab": {
          "base_uri": "https://localhost:8080/"
        },
        "id": "HjaiLwLdjmWS",
        "outputId": "7a820786-ed79-4101-a36b-390b24b46d27"
      },
      "execution_count": null,
      "outputs": [
        {
          "output_type": "stream",
          "name": "stdout",
          "text": [
            "Epoch 1/200\n",
            "1/1 [==============================] - 2s 2s/step - loss: 3.4661 - accuracy: 0.0312\n",
            "Epoch 2/200\n",
            "1/1 [==============================] - 0s 18ms/step - loss: 3.4644 - accuracy: 0.0312\n",
            "Epoch 3/200\n",
            "1/1 [==============================] - 0s 19ms/step - loss: 3.4627 - accuracy: 0.0625\n",
            "Epoch 4/200\n",
            "1/1 [==============================] - 0s 20ms/step - loss: 3.4610 - accuracy: 0.0312\n",
            "Epoch 5/200\n",
            "1/1 [==============================] - 0s 18ms/step - loss: 3.4592 - accuracy: 0.0625\n",
            "Epoch 6/200\n",
            "1/1 [==============================] - 0s 19ms/step - loss: 3.4575 - accuracy: 0.0938\n",
            "Epoch 7/200\n",
            "1/1 [==============================] - 0s 18ms/step - loss: 3.4557 - accuracy: 0.1562\n",
            "Epoch 8/200\n",
            "1/1 [==============================] - 0s 18ms/step - loss: 3.4538 - accuracy: 0.2500\n",
            "Epoch 9/200\n",
            "1/1 [==============================] - 0s 17ms/step - loss: 3.4518 - accuracy: 0.3438\n",
            "Epoch 10/200\n",
            "1/1 [==============================] - 0s 19ms/step - loss: 3.4498 - accuracy: 0.3438\n",
            "Epoch 11/200\n",
            "1/1 [==============================] - 0s 19ms/step - loss: 3.4477 - accuracy: 0.4375\n",
            "Epoch 12/200\n",
            "1/1 [==============================] - 0s 18ms/step - loss: 3.4455 - accuracy: 0.4688\n",
            "Epoch 13/200\n",
            "1/1 [==============================] - 0s 18ms/step - loss: 3.4432 - accuracy: 0.4688\n",
            "Epoch 14/200\n",
            "1/1 [==============================] - 0s 19ms/step - loss: 3.4408 - accuracy: 0.5000\n",
            "Epoch 15/200\n",
            "1/1 [==============================] - 0s 17ms/step - loss: 3.4383 - accuracy: 0.5625\n",
            "Epoch 16/200\n",
            "1/1 [==============================] - 0s 19ms/step - loss: 3.4356 - accuracy: 0.5625\n",
            "Epoch 17/200\n",
            "1/1 [==============================] - 0s 17ms/step - loss: 3.4327 - accuracy: 0.6250\n",
            "Epoch 18/200\n",
            "1/1 [==============================] - 0s 27ms/step - loss: 3.4297 - accuracy: 0.6250\n",
            "Epoch 19/200\n",
            "1/1 [==============================] - 0s 18ms/step - loss: 3.4265 - accuracy: 0.6250\n",
            "Epoch 20/200\n",
            "1/1 [==============================] - 0s 16ms/step - loss: 3.4230 - accuracy: 0.6250\n",
            "Epoch 21/200\n",
            "1/1 [==============================] - 0s 18ms/step - loss: 3.4194 - accuracy: 0.6250\n",
            "Epoch 22/200\n",
            "1/1 [==============================] - 0s 19ms/step - loss: 3.4156 - accuracy: 0.6250\n",
            "Epoch 23/200\n",
            "1/1 [==============================] - 0s 16ms/step - loss: 3.4114 - accuracy: 0.6250\n",
            "Epoch 24/200\n",
            "1/1 [==============================] - 0s 20ms/step - loss: 3.4070 - accuracy: 0.5938\n",
            "Epoch 25/200\n",
            "1/1 [==============================] - 0s 19ms/step - loss: 3.4024 - accuracy: 0.5938\n",
            "Epoch 26/200\n",
            "1/1 [==============================] - 0s 20ms/step - loss: 3.3974 - accuracy: 0.5938\n",
            "Epoch 27/200\n",
            "1/1 [==============================] - 0s 18ms/step - loss: 3.3920 - accuracy: 0.5938\n",
            "Epoch 28/200\n",
            "1/1 [==============================] - 0s 17ms/step - loss: 3.3863 - accuracy: 0.6250\n",
            "Epoch 29/200\n",
            "1/1 [==============================] - 0s 18ms/step - loss: 3.3803 - accuracy: 0.6250\n",
            "Epoch 30/200\n",
            "1/1 [==============================] - 0s 18ms/step - loss: 3.3738 - accuracy: 0.6250\n",
            "Epoch 31/200\n",
            "1/1 [==============================] - 0s 22ms/step - loss: 3.3668 - accuracy: 0.6250\n",
            "Epoch 32/200\n",
            "1/1 [==============================] - 0s 20ms/step - loss: 3.3594 - accuracy: 0.6250\n",
            "Epoch 33/200\n",
            "1/1 [==============================] - 0s 17ms/step - loss: 3.3514 - accuracy: 0.6562\n",
            "Epoch 34/200\n",
            "1/1 [==============================] - 0s 19ms/step - loss: 3.3429 - accuracy: 0.6562\n",
            "Epoch 35/200\n",
            "1/1 [==============================] - 0s 18ms/step - loss: 3.3338 - accuracy: 0.6250\n",
            "Epoch 36/200\n",
            "1/1 [==============================] - 0s 18ms/step - loss: 3.3241 - accuracy: 0.6250\n",
            "Epoch 37/200\n",
            "1/1 [==============================] - 0s 19ms/step - loss: 3.3137 - accuracy: 0.6250\n",
            "Epoch 38/200\n",
            "1/1 [==============================] - 0s 19ms/step - loss: 3.3025 - accuracy: 0.6250\n",
            "Epoch 39/200\n",
            "1/1 [==============================] - 0s 20ms/step - loss: 3.2906 - accuracy: 0.6250\n",
            "Epoch 40/200\n",
            "1/1 [==============================] - 0s 17ms/step - loss: 3.2778 - accuracy: 0.6250\n",
            "Epoch 41/200\n",
            "1/1 [==============================] - 0s 19ms/step - loss: 3.2641 - accuracy: 0.5938\n",
            "Epoch 42/200\n",
            "1/1 [==============================] - 0s 18ms/step - loss: 3.2494 - accuracy: 0.5938\n",
            "Epoch 43/200\n",
            "1/1 [==============================] - 0s 21ms/step - loss: 3.2337 - accuracy: 0.5938\n",
            "Epoch 44/200\n",
            "1/1 [==============================] - 0s 18ms/step - loss: 3.2170 - accuracy: 0.5938\n",
            "Epoch 45/200\n",
            "1/1 [==============================] - 0s 19ms/step - loss: 3.1990 - accuracy: 0.5938\n",
            "Epoch 46/200\n",
            "1/1 [==============================] - 0s 19ms/step - loss: 3.1798 - accuracy: 0.6250\n",
            "Epoch 47/200\n",
            "1/1 [==============================] - 0s 20ms/step - loss: 3.1594 - accuracy: 0.6250\n",
            "Epoch 48/200\n",
            "1/1 [==============================] - 0s 17ms/step - loss: 3.1375 - accuracy: 0.6250\n",
            "Epoch 49/200\n",
            "1/1 [==============================] - 0s 20ms/step - loss: 3.1142 - accuracy: 0.6250\n",
            "Epoch 50/200\n",
            "1/1 [==============================] - 0s 17ms/step - loss: 3.0895 - accuracy: 0.6875\n",
            "Epoch 51/200\n",
            "1/1 [==============================] - 0s 18ms/step - loss: 3.0631 - accuracy: 0.6875\n",
            "Epoch 52/200\n",
            "1/1 [==============================] - 0s 18ms/step - loss: 3.0352 - accuracy: 0.6875\n",
            "Epoch 53/200\n",
            "1/1 [==============================] - 0s 20ms/step - loss: 3.0057 - accuracy: 0.6875\n",
            "Epoch 54/200\n",
            "1/1 [==============================] - 0s 18ms/step - loss: 2.9746 - accuracy: 0.6875\n",
            "Epoch 55/200\n",
            "1/1 [==============================] - 0s 20ms/step - loss: 2.9418 - accuracy: 0.6250\n",
            "Epoch 56/200\n",
            "1/1 [==============================] - 0s 22ms/step - loss: 2.9075 - accuracy: 0.6250\n",
            "Epoch 57/200\n",
            "1/1 [==============================] - 0s 18ms/step - loss: 2.8716 - accuracy: 0.5938\n",
            "Epoch 58/200\n",
            "1/1 [==============================] - 0s 17ms/step - loss: 2.8344 - accuracy: 0.5625\n",
            "Epoch 59/200\n",
            "1/1 [==============================] - 0s 20ms/step - loss: 2.7958 - accuracy: 0.5625\n",
            "Epoch 60/200\n",
            "1/1 [==============================] - 0s 18ms/step - loss: 2.7560 - accuracy: 0.5625\n",
            "Epoch 61/200\n",
            "1/1 [==============================] - 0s 20ms/step - loss: 2.7153 - accuracy: 0.5625\n",
            "Epoch 62/200\n",
            "1/1 [==============================] - 0s 27ms/step - loss: 2.6738 - accuracy: 0.5000\n",
            "Epoch 63/200\n",
            "1/1 [==============================] - 0s 18ms/step - loss: 2.6318 - accuracy: 0.5000\n",
            "Epoch 64/200\n",
            "1/1 [==============================] - 0s 19ms/step - loss: 2.5894 - accuracy: 0.4688\n",
            "Epoch 65/200\n",
            "1/1 [==============================] - 0s 20ms/step - loss: 2.5469 - accuracy: 0.4375\n",
            "Epoch 66/200\n",
            "1/1 [==============================] - 0s 18ms/step - loss: 2.5044 - accuracy: 0.4375\n",
            "Epoch 67/200\n",
            "1/1 [==============================] - 0s 22ms/step - loss: 2.4622 - accuracy: 0.4062\n",
            "Epoch 68/200\n",
            "1/1 [==============================] - 0s 17ms/step - loss: 2.4203 - accuracy: 0.4062\n",
            "Epoch 69/200\n",
            "1/1 [==============================] - 0s 20ms/step - loss: 2.3788 - accuracy: 0.4062\n",
            "Epoch 70/200\n",
            "1/1 [==============================] - 0s 17ms/step - loss: 2.3377 - accuracy: 0.4688\n",
            "Epoch 71/200\n",
            "1/1 [==============================] - 0s 18ms/step - loss: 2.2970 - accuracy: 0.5000\n",
            "Epoch 72/200\n",
            "1/1 [==============================] - 0s 19ms/step - loss: 2.2569 - accuracy: 0.5312\n",
            "Epoch 73/200\n",
            "1/1 [==============================] - 0s 19ms/step - loss: 2.2172 - accuracy: 0.5625\n",
            "Epoch 74/200\n",
            "1/1 [==============================] - 0s 21ms/step - loss: 2.1781 - accuracy: 0.5312\n",
            "Epoch 75/200\n",
            "1/1 [==============================] - 0s 17ms/step - loss: 2.1395 - accuracy: 0.5625\n",
            "Epoch 76/200\n",
            "1/1 [==============================] - 0s 19ms/step - loss: 2.1014 - accuracy: 0.6250\n",
            "Epoch 77/200\n",
            "1/1 [==============================] - 0s 22ms/step - loss: 2.0638 - accuracy: 0.6562\n",
            "Epoch 78/200\n",
            "1/1 [==============================] - 0s 20ms/step - loss: 2.0268 - accuracy: 0.6562\n",
            "Epoch 79/200\n",
            "1/1 [==============================] - 0s 18ms/step - loss: 1.9902 - accuracy: 0.6875\n",
            "Epoch 80/200\n",
            "1/1 [==============================] - 0s 19ms/step - loss: 1.9543 - accuracy: 0.7500\n",
            "Epoch 81/200\n",
            "1/1 [==============================] - 0s 18ms/step - loss: 1.9189 - accuracy: 0.7500\n",
            "Epoch 82/200\n",
            "1/1 [==============================] - 0s 19ms/step - loss: 1.8841 - accuracy: 0.7500\n",
            "Epoch 83/200\n",
            "1/1 [==============================] - 0s 17ms/step - loss: 1.8500 - accuracy: 0.7188\n",
            "Epoch 84/200\n",
            "1/1 [==============================] - 0s 19ms/step - loss: 1.8165 - accuracy: 0.7812\n",
            "Epoch 85/200\n",
            "1/1 [==============================] - 0s 18ms/step - loss: 1.7836 - accuracy: 0.8438\n",
            "Epoch 86/200\n",
            "1/1 [==============================] - 0s 18ms/step - loss: 1.7514 - accuracy: 0.8438\n",
            "Epoch 87/200\n",
            "1/1 [==============================] - 0s 17ms/step - loss: 1.7198 - accuracy: 0.8438\n",
            "Epoch 88/200\n",
            "1/1 [==============================] - 0s 19ms/step - loss: 1.6887 - accuracy: 0.8438\n",
            "Epoch 89/200\n",
            "1/1 [==============================] - 0s 18ms/step - loss: 1.6581 - accuracy: 0.8750\n",
            "Epoch 90/200\n",
            "1/1 [==============================] - 0s 20ms/step - loss: 1.6281 - accuracy: 0.8750\n",
            "Epoch 91/200\n",
            "1/1 [==============================] - 0s 19ms/step - loss: 1.5984 - accuracy: 0.9062\n",
            "Epoch 92/200\n",
            "1/1 [==============================] - 0s 18ms/step - loss: 1.5691 - accuracy: 0.9375\n",
            "Epoch 93/200\n",
            "1/1 [==============================] - 0s 18ms/step - loss: 1.5402 - accuracy: 0.9375\n",
            "Epoch 94/200\n",
            "1/1 [==============================] - 0s 24ms/step - loss: 1.5116 - accuracy: 0.9375\n",
            "Epoch 95/200\n",
            "1/1 [==============================] - 0s 17ms/step - loss: 1.4833 - accuracy: 0.9375\n",
            "Epoch 96/200\n",
            "1/1 [==============================] - 0s 17ms/step - loss: 1.4553 - accuracy: 0.9375\n",
            "Epoch 97/200\n",
            "1/1 [==============================] - 0s 20ms/step - loss: 1.4275 - accuracy: 0.9375\n",
            "Epoch 98/200\n",
            "1/1 [==============================] - 0s 17ms/step - loss: 1.4001 - accuracy: 0.9375\n",
            "Epoch 99/200\n",
            "1/1 [==============================] - 0s 18ms/step - loss: 1.3729 - accuracy: 0.9375\n",
            "Epoch 100/200\n",
            "1/1 [==============================] - 0s 20ms/step - loss: 1.3460 - accuracy: 0.9688\n",
            "Epoch 101/200\n",
            "1/1 [==============================] - 0s 19ms/step - loss: 1.3194 - accuracy: 0.9375\n",
            "Epoch 102/200\n",
            "1/1 [==============================] - 0s 22ms/step - loss: 1.2930 - accuracy: 0.9375\n",
            "Epoch 103/200\n",
            "1/1 [==============================] - 0s 19ms/step - loss: 1.2669 - accuracy: 0.9375\n",
            "Epoch 104/200\n",
            "1/1 [==============================] - 0s 18ms/step - loss: 1.2411 - accuracy: 0.9375\n",
            "Epoch 105/200\n",
            "1/1 [==============================] - 0s 19ms/step - loss: 1.2155 - accuracy: 0.9375\n",
            "Epoch 106/200\n",
            "1/1 [==============================] - 0s 23ms/step - loss: 1.1903 - accuracy: 0.9688\n",
            "Epoch 107/200\n",
            "1/1 [==============================] - 0s 18ms/step - loss: 1.1653 - accuracy: 1.0000\n",
            "Epoch 108/200\n",
            "1/1 [==============================] - 0s 18ms/step - loss: 1.1406 - accuracy: 1.0000\n",
            "Epoch 109/200\n",
            "1/1 [==============================] - 0s 19ms/step - loss: 1.1161 - accuracy: 1.0000\n",
            "Epoch 110/200\n",
            "1/1 [==============================] - 0s 22ms/step - loss: 1.0920 - accuracy: 1.0000\n",
            "Epoch 111/200\n",
            "1/1 [==============================] - 0s 24ms/step - loss: 1.0682 - accuracy: 1.0000\n",
            "Epoch 112/200\n",
            "1/1 [==============================] - 0s 17ms/step - loss: 1.0448 - accuracy: 0.9688\n",
            "Epoch 113/200\n",
            "1/1 [==============================] - 0s 17ms/step - loss: 1.0216 - accuracy: 0.9688\n",
            "Epoch 114/200\n",
            "1/1 [==============================] - 0s 19ms/step - loss: 0.9989 - accuracy: 0.9688\n",
            "Epoch 115/200\n",
            "1/1 [==============================] - 0s 17ms/step - loss: 0.9765 - accuracy: 0.9688\n",
            "Epoch 116/200\n",
            "1/1 [==============================] - 0s 22ms/step - loss: 0.9546 - accuracy: 0.9688\n",
            "Epoch 117/200\n",
            "1/1 [==============================] - 0s 19ms/step - loss: 0.9330 - accuracy: 0.9688\n",
            "Epoch 118/200\n",
            "1/1 [==============================] - 0s 17ms/step - loss: 0.9117 - accuracy: 0.9688\n",
            "Epoch 119/200\n",
            "1/1 [==============================] - 0s 18ms/step - loss: 0.8909 - accuracy: 0.9688\n",
            "Epoch 120/200\n",
            "1/1 [==============================] - 0s 17ms/step - loss: 0.8704 - accuracy: 0.9688\n",
            "Epoch 121/200\n",
            "1/1 [==============================] - 0s 22ms/step - loss: 0.8502 - accuracy: 1.0000\n",
            "Epoch 122/200\n",
            "1/1 [==============================] - 0s 19ms/step - loss: 0.8304 - accuracy: 1.0000\n",
            "Epoch 123/200\n",
            "1/1 [==============================] - 0s 16ms/step - loss: 0.8109 - accuracy: 1.0000\n",
            "Epoch 124/200\n",
            "1/1 [==============================] - 0s 19ms/step - loss: 0.7918 - accuracy: 1.0000\n",
            "Epoch 125/200\n",
            "1/1 [==============================] - 0s 19ms/step - loss: 0.7730 - accuracy: 1.0000\n",
            "Epoch 126/200\n",
            "1/1 [==============================] - 0s 18ms/step - loss: 0.7547 - accuracy: 1.0000\n",
            "Epoch 127/200\n",
            "1/1 [==============================] - 0s 18ms/step - loss: 0.7366 - accuracy: 1.0000\n",
            "Epoch 128/200\n",
            "1/1 [==============================] - 0s 19ms/step - loss: 0.7190 - accuracy: 1.0000\n",
            "Epoch 129/200\n",
            "1/1 [==============================] - 0s 18ms/step - loss: 0.7017 - accuracy: 1.0000\n",
            "Epoch 130/200\n",
            "1/1 [==============================] - 0s 16ms/step - loss: 0.6848 - accuracy: 1.0000\n",
            "Epoch 131/200\n",
            "1/1 [==============================] - 0s 19ms/step - loss: 0.6683 - accuracy: 1.0000\n",
            "Epoch 132/200\n",
            "1/1 [==============================] - 0s 18ms/step - loss: 0.6521 - accuracy: 1.0000\n",
            "Epoch 133/200\n",
            "1/1 [==============================] - 0s 17ms/step - loss: 0.6363 - accuracy: 1.0000\n",
            "Epoch 134/200\n",
            "1/1 [==============================] - 0s 18ms/step - loss: 0.6209 - accuracy: 1.0000\n",
            "Epoch 135/200\n",
            "1/1 [==============================] - 0s 16ms/step - loss: 0.6059 - accuracy: 1.0000\n",
            "Epoch 136/200\n",
            "1/1 [==============================] - 0s 18ms/step - loss: 0.5913 - accuracy: 1.0000\n",
            "Epoch 137/200\n",
            "1/1 [==============================] - 0s 20ms/step - loss: 0.5770 - accuracy: 1.0000\n",
            "Epoch 138/200\n",
            "1/1 [==============================] - 0s 18ms/step - loss: 0.5631 - accuracy: 1.0000\n",
            "Epoch 139/200\n",
            "1/1 [==============================] - 0s 16ms/step - loss: 0.5495 - accuracy: 1.0000\n",
            "Epoch 140/200\n",
            "1/1 [==============================] - 0s 17ms/step - loss: 0.5362 - accuracy: 1.0000\n",
            "Epoch 141/200\n",
            "1/1 [==============================] - 0s 18ms/step - loss: 0.5233 - accuracy: 1.0000\n",
            "Epoch 142/200\n",
            "1/1 [==============================] - 0s 17ms/step - loss: 0.5108 - accuracy: 1.0000\n",
            "Epoch 143/200\n",
            "1/1 [==============================] - 0s 18ms/step - loss: 0.4985 - accuracy: 1.0000\n",
            "Epoch 144/200\n",
            "1/1 [==============================] - 0s 18ms/step - loss: 0.4865 - accuracy: 1.0000\n",
            "Epoch 145/200\n",
            "1/1 [==============================] - 0s 21ms/step - loss: 0.4748 - accuracy: 1.0000\n",
            "Epoch 146/200\n",
            "1/1 [==============================] - 0s 20ms/step - loss: 0.4634 - accuracy: 1.0000\n",
            "Epoch 147/200\n",
            "1/1 [==============================] - 0s 20ms/step - loss: 0.4523 - accuracy: 1.0000\n",
            "Epoch 148/200\n",
            "1/1 [==============================] - 0s 20ms/step - loss: 0.4414 - accuracy: 1.0000\n",
            "Epoch 149/200\n",
            "1/1 [==============================] - 0s 18ms/step - loss: 0.4307 - accuracy: 1.0000\n",
            "Epoch 150/200\n",
            "1/1 [==============================] - 0s 28ms/step - loss: 0.4203 - accuracy: 1.0000\n",
            "Epoch 151/200\n",
            "1/1 [==============================] - 0s 20ms/step - loss: 0.4101 - accuracy: 1.0000\n",
            "Epoch 152/200\n",
            "1/1 [==============================] - 0s 20ms/step - loss: 0.4002 - accuracy: 1.0000\n",
            "Epoch 153/200\n",
            "1/1 [==============================] - 0s 18ms/step - loss: 0.3905 - accuracy: 1.0000\n",
            "Epoch 154/200\n",
            "1/1 [==============================] - 0s 17ms/step - loss: 0.3809 - accuracy: 1.0000\n",
            "Epoch 155/200\n",
            "1/1 [==============================] - 0s 20ms/step - loss: 0.3716 - accuracy: 1.0000\n",
            "Epoch 156/200\n",
            "1/1 [==============================] - 0s 17ms/step - loss: 0.3625 - accuracy: 1.0000\n",
            "Epoch 157/200\n",
            "1/1 [==============================] - 0s 20ms/step - loss: 0.3536 - accuracy: 1.0000\n",
            "Epoch 158/200\n",
            "1/1 [==============================] - 0s 17ms/step - loss: 0.3449 - accuracy: 1.0000\n",
            "Epoch 159/200\n",
            "1/1 [==============================] - 0s 24ms/step - loss: 0.3364 - accuracy: 1.0000\n",
            "Epoch 160/200\n",
            "1/1 [==============================] - 0s 24ms/step - loss: 0.3280 - accuracy: 1.0000\n",
            "Epoch 161/200\n",
            "1/1 [==============================] - 0s 21ms/step - loss: 0.3199 - accuracy: 1.0000\n",
            "Epoch 162/200\n",
            "1/1 [==============================] - 0s 18ms/step - loss: 0.3119 - accuracy: 1.0000\n",
            "Epoch 163/200\n",
            "1/1 [==============================] - 0s 18ms/step - loss: 0.3041 - accuracy: 1.0000\n",
            "Epoch 164/200\n",
            "1/1 [==============================] - 0s 19ms/step - loss: 0.2965 - accuracy: 1.0000\n",
            "Epoch 165/200\n",
            "1/1 [==============================] - 0s 18ms/step - loss: 0.2891 - accuracy: 1.0000\n",
            "Epoch 166/200\n",
            "1/1 [==============================] - 0s 19ms/step - loss: 0.2818 - accuracy: 1.0000\n",
            "Epoch 167/200\n",
            "1/1 [==============================] - 0s 22ms/step - loss: 0.2747 - accuracy: 1.0000\n",
            "Epoch 168/200\n",
            "1/1 [==============================] - 0s 18ms/step - loss: 0.2677 - accuracy: 1.0000\n",
            "Epoch 169/200\n",
            "1/1 [==============================] - 0s 21ms/step - loss: 0.2609 - accuracy: 1.0000\n",
            "Epoch 170/200\n",
            "1/1 [==============================] - 0s 18ms/step - loss: 0.2543 - accuracy: 1.0000\n",
            "Epoch 171/200\n",
            "1/1 [==============================] - 0s 23ms/step - loss: 0.2479 - accuracy: 1.0000\n",
            "Epoch 172/200\n",
            "1/1 [==============================] - 0s 20ms/step - loss: 0.2416 - accuracy: 1.0000\n",
            "Epoch 173/200\n",
            "1/1 [==============================] - 0s 19ms/step - loss: 0.2354 - accuracy: 1.0000\n",
            "Epoch 174/200\n",
            "1/1 [==============================] - 0s 21ms/step - loss: 0.2294 - accuracy: 1.0000\n",
            "Epoch 175/200\n",
            "1/1 [==============================] - 0s 19ms/step - loss: 0.2236 - accuracy: 1.0000\n",
            "Epoch 176/200\n",
            "1/1 [==============================] - 0s 19ms/step - loss: 0.2179 - accuracy: 1.0000\n",
            "Epoch 177/200\n",
            "1/1 [==============================] - 0s 21ms/step - loss: 0.2124 - accuracy: 1.0000\n",
            "Epoch 178/200\n",
            "1/1 [==============================] - 0s 20ms/step - loss: 0.2070 - accuracy: 1.0000\n",
            "Epoch 179/200\n",
            "1/1 [==============================] - 0s 19ms/step - loss: 0.2017 - accuracy: 1.0000\n",
            "Epoch 180/200\n",
            "1/1 [==============================] - 0s 17ms/step - loss: 0.1966 - accuracy: 1.0000\n",
            "Epoch 181/200\n",
            "1/1 [==============================] - 0s 17ms/step - loss: 0.1916 - accuracy: 1.0000\n",
            "Epoch 182/200\n",
            "1/1 [==============================] - 0s 19ms/step - loss: 0.1868 - accuracy: 1.0000\n",
            "Epoch 183/200\n",
            "1/1 [==============================] - 0s 17ms/step - loss: 0.1820 - accuracy: 1.0000\n",
            "Epoch 184/200\n",
            "1/1 [==============================] - 0s 20ms/step - loss: 0.1775 - accuracy: 1.0000\n",
            "Epoch 185/200\n",
            "1/1 [==============================] - 0s 19ms/step - loss: 0.1730 - accuracy: 1.0000\n",
            "Epoch 186/200\n",
            "1/1 [==============================] - 0s 19ms/step - loss: 0.1687 - accuracy: 1.0000\n",
            "Epoch 187/200\n",
            "1/1 [==============================] - 0s 22ms/step - loss: 0.1645 - accuracy: 1.0000\n",
            "Epoch 188/200\n",
            "1/1 [==============================] - 0s 20ms/step - loss: 0.1604 - accuracy: 1.0000\n",
            "Epoch 189/200\n",
            "1/1 [==============================] - 0s 20ms/step - loss: 0.1564 - accuracy: 1.0000\n",
            "Epoch 190/200\n",
            "1/1 [==============================] - 0s 20ms/step - loss: 0.1526 - accuracy: 1.0000\n",
            "Epoch 191/200\n",
            "1/1 [==============================] - 0s 18ms/step - loss: 0.1489 - accuracy: 1.0000\n",
            "Epoch 192/200\n",
            "1/1 [==============================] - 0s 18ms/step - loss: 0.1452 - accuracy: 1.0000\n",
            "Epoch 193/200\n",
            "1/1 [==============================] - 0s 27ms/step - loss: 0.1417 - accuracy: 1.0000\n",
            "Epoch 194/200\n",
            "1/1 [==============================] - 0s 26ms/step - loss: 0.1383 - accuracy: 1.0000\n",
            "Epoch 195/200\n",
            "1/1 [==============================] - 0s 22ms/step - loss: 0.1350 - accuracy: 1.0000\n",
            "Epoch 196/200\n",
            "1/1 [==============================] - 0s 19ms/step - loss: 0.1318 - accuracy: 1.0000\n",
            "Epoch 197/200\n",
            "1/1 [==============================] - 0s 18ms/step - loss: 0.1287 - accuracy: 1.0000\n",
            "Epoch 198/200\n",
            "1/1 [==============================] - 0s 18ms/step - loss: 0.1256 - accuracy: 1.0000\n",
            "Epoch 199/200\n",
            "1/1 [==============================] - 0s 16ms/step - loss: 0.1227 - accuracy: 1.0000\n",
            "Epoch 200/200\n",
            "1/1 [==============================] - 0s 20ms/step - loss: 0.1199 - accuracy: 1.0000\n"
          ]
        }
      ]
    },
    {
      "cell_type": "code",
      "source": [
        "# Clear the session\n",
        "tf.keras.backend.clear_session()"
      ],
      "metadata": {
        "id": "RTwtUH0LWuVd"
      },
      "execution_count": null,
      "outputs": []
    },
    {
      "cell_type": "markdown",
      "source": [
        "Model Analysis"
      ],
      "metadata": {
        "id": "6r0vZgPSmZO5"
      }
    },
    {
      "cell_type": "code",
      "source": [
        "# Plot model accuracy\n",
        "plt.plot(train.history['accuracy'], label='training set accuracy')\n",
        "plt.plot(train.history['loss'], label='training set loss')\n",
        "plt.legend()\n",
        "plt.show()"
      ],
      "metadata": {
        "id": "RWeTxscNj8lV",
        "colab": {
          "base_uri": "https://localhost:8080/",
          "height": 430
        },
        "outputId": "5ae0d67d-28e6-4e27-efce-933b694edb56"
      },
      "execution_count": null,
      "outputs": [
        {
          "output_type": "display_data",
          "data": {
            "text/plain": [
              "<Figure size 640x480 with 1 Axes>"
            ],
            "image/png": "[encoded data removed]"
          },
          "metadata": {}
        }
      ]
    },
    {
      "cell_type": "markdown",
      "source": [
        "Testing"
      ],
      "metadata": {
        "id": "tYQmPJxfmq4W"
      }
    },
    {
      "cell_type": "code",
      "source": [
        "# Define a list of goodbye phrases\n",
        "goodbye_phrases = [\"bye\", \"goodbye\", \"see you later\", \"adios\", \"catch you later\", \"thank you\", \"thanks\"]"
      ],
      "metadata": {
        "id": "2p3MHIsS-D-n"
      },
      "execution_count": null,
      "outputs": []
    },
    {
      "cell_type": "code",
      "source": [
        "# Function to handle timeout\n",
        "def handler(signum, frame):\n",
        "    raise TimeoutError\n",
        "\n",
        "# Set the signal handler for SIGALRM\n",
        "signal.signal(signal.SIGALRM, handler)"
      ],
      "metadata": {
        "colab": {
          "base_uri": "https://localhost:8080/"
        },
        "id": "Yx7KVBrp_ZuB",
        "outputId": "f431920e-0e99-4b92-a66e-c7cef11d644d"
      },
      "execution_count": null,
      "outputs": [
        {
          "output_type": "execute_result",
          "data": {
            "text/plain": [
              "<Handlers.SIG_DFL: 0>"
            ]
          },
          "metadata": {},
          "execution_count": 18
        }
      ]
    },
    {
      "cell_type": "code",
      "source": [
        "# Chatting\n",
        "while True:\n",
        "    try:\n",
        "        # Set the alarm for 60 seconds\n",
        "        signal.alarm(60)\n",
        "        user_input = input(\"You: \")\n",
        "        signal.alarm(0)  # Disable the alarm\n",
        "\n",
        "        texts_p = []\n",
        "\n",
        "        # Removing punctuation and converting to lowercase\n",
        "        processed_input = [letters.lower() for letters in user_input if letters not in string.punctuation]\n",
        "        processed_input = ''.join(processed_input)\n",
        "        texts_p.append(processed_input)\n",
        "\n",
        "        # Check if the input is a goodbye phrase\n",
        "        if any(phrase in processed_input for phrase in goodbye_phrases):\n",
        "            print(\"Sobat Padi: Goodbye!\")\n",
        "            break\n",
        "\n",
        "        # Tokenizing and padding\n",
        "        prediction_input = tokenizer.texts_to_sequences(texts_p)\n",
        "        prediction_input = np.array(prediction_input).reshape(-1)\n",
        "        prediction_input = pad_sequences([prediction_input], input_shape)\n",
        "\n",
        "        # Getting output from the model\n",
        "        output = model.predict(prediction_input)\n",
        "        output = output.argmax()\n",
        "\n",
        "        # Finding the right tag and predicting\n",
        "        response = le.inverse_transform([output])[0]\n",
        "        print(\"Sobat Padi: \", response)\n",
        "\n",
        "    except TimeoutError:\n",
        "        print(\"\\nNo response detected. Exiting the chat...\")\n",
        "        break"
      ],
      "metadata": {
        "id": "KGasEL-dkdGe",
        "outputId": "8b123b2a-6210-4730-af28-4c31e66a40a2",
        "colab": {
          "base_uri": "https://localhost:8080/"
        }
      },
      "execution_count": null,
      "outputs": [
        {
          "output_type": "stream",
          "name": "stdout",
          "text": [
            "You: thanks\n",
            "Sobat Padi: Goodbye!\n"
          ]
        }
      ]
    },
    {
      "cell_type": "code",
      "source": [
        "import tensorflowjs as tfjs\n",
        "tfjs.converters.save_keras_model(model, 'models')\n",
        "\n",
        "import shutil\n",
        "# Lokasi folder yang ingin Anda kompres\n",
        "folder_path = '/content/models'\n",
        "\n",
        "# Lokasi tempat menyimpan file ZIP\n",
        "zip_path = '/content/models.zip'\n",
        "\n",
        "# Kompres folder menjadi file ZIP\n",
        "shutil.make_archive('/content/models', 'zip', folder_path)\n",
        "\n",
        "# Lokasi file ZIP yang ingin diunggah\n",
        "zip_file = '/content/models.zip'\n"
      ],
      "metadata": {
        "colab": {
          "base_uri": "https://localhost:8080/"
        },
        "id": "wSydSampXEbm",
        "outputId": "9d37ee05-df62-4c63-afcf-87ae48c26888"
      },
      "execution_count": null,
      "outputs": [
        {
          "output_type": "stream",
          "name": "stderr",
          "text": [
            "/usr/local/lib/python3.10/dist-packages/keras/src/engine/training.py:3103: UserWarning: You are saving your model as an HDF5 file via `model.save()`. This file format is considered legacy. We recommend using instead the native Keras format, e.g. `model.save('my_model.keras')`.\n",
            "  saving_api.save_model(\n"
          ]
        }
      ]
    }
  ]
}